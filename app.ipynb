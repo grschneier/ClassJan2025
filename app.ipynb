{
 "cells": [
  {
   "cell_type": "code",
   "id": "79ae2864522f116d",
   "metadata": {
    "ExecuteTime": {
     "end_time": "2024-11-27T22:38:00.617047Z",
     "start_time": "2024-11-27T22:38:00.338285Z"
    }
   },
   "source": [
    "from dash import Dash, dcc, html, Input, Output\n",
    "import plotly.graph_objects as go\n",
    "import pandas as pd\n",
    "\n",
    "\n",
    "app = Dash(__name__)\n",
    "\n",
    "app.layout = html.Div([\n",
    "    html.H4('Apple stock candlestick chart'),\n",
    "    dcc.Checklist(\n",
    "        id='candlestick-charts-x-toggle-rangeslider',\n",
    "        options=[{'label': 'Include Rangeslider',\n",
    "                  'value': 'slider'}],\n",
    "        value=['slider']\n",
    "    ),\n",
    "    dcc.Graph(id=\"candlestick-charts-x-graph\"),\n",
    "])\n",
    "\n",
    "\n",
    "@app.callback(\n",
    "    Output(\"candlestick-charts-x-graph\", \"figure\"),\n",
    "    Input(\"candlestick-charts-x-toggle-rangeslider\", \"value\"))\n",
    "def display_candlestick(value):\n",
    "    df = pd.read_csv('https://raw.githubusercontent.com/plotly/datasets/master/finance-charts-apple.csv') # replace with your own data source\n",
    "    fig = go.Figure(go.Candlestick(\n",
    "        x=df['Date'],\n",
    "        open=df['AAPL.Open'],\n",
    "        high=df['AAPL.High'],\n",
    "        low=df['AAPL.Low'],\n",
    "        close=df['AAPL.Close']\n",
    "    ))\n",
    "\n",
    "    fig.update_layout(\n",
    "        xaxis_rangeslider_visible='slider' in value\n",
    "    )\n",
    "\n",
    "    return fig\n",
    "\n",
    "\n",
    "if __name__ == \"__main__\":\n",
    "    app.run_server(debug=True)\n"
   ],
   "outputs": [
    {
     "data": {
      "text/plain": [
       "<IPython.lib.display.IFrame at 0x108090090>"
      ],
      "text/html": [
       "\n",
       "        <iframe\n",
       "            width=\"100%\"\n",
       "            height=\"650\"\n",
       "            src=\"http://127.0.0.1:8050/\"\n",
       "            frameborder=\"0\"\n",
       "            allowfullscreen\n",
       "            \n",
       "        ></iframe>\n",
       "        "
      ]
     },
     "metadata": {},
     "output_type": "display_data"
    }
   ],
   "execution_count": 3
  }
 ],
 "metadata": {
  "kernelspec": {
   "display_name": "Python 3 (ipykernel)",
   "language": "python",
   "name": "python3"
  },
  "language_info": {
   "codemirror_mode": {
    "name": "ipython",
    "version": 3
   },
   "file_extension": ".py",
   "mimetype": "text/x-python",
   "name": "python",
   "nbconvert_exporter": "python",
   "pygments_lexer": "ipython3",
   "version": "3.11.5"
  }
 },
 "nbformat": 4,
 "nbformat_minor": 5
}
