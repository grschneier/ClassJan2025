{
 "cells": [
  {
   "cell_type": "markdown",
   "id": "58d6c5cc",
   "metadata": {},
   "source": [
    "# **Election Data Analysis: Rural vs Urban Vote Shifts**\n",
    "This Jupyter Notebook explores election trends by analyzing county-level voting shifts, party flips, and the influence of demographics (race, gender). We classify counties as **rural or urban** and analyze how they changed across election cycles."
   ]
  },
  {
   "cell_type": "code",
   "id": "76b5c996",
   "metadata": {
    "jupyter": {
     "is_executing": true
    }
   },
   "source": [
    "import pandas as pd\n",
    "import matplotlib.pyplot as plt\n",
    "import seaborn as sns\n",
    "import plotly.express as px\n",
    "\n",
    "# Set visualization style\n",
    "plt.style.use('fivethirtyeight')"
   ],
   "outputs": [],
   "execution_count": null
  },
  {
   "cell_type": "markdown",
   "id": "92ff6b47",
   "metadata": {},
   "source": [
    "## **1. Load the Datasets**"
   ]
  },
  {
   "cell_type": "code",
   "id": "92c52ec0",
   "metadata": {
    "jupyter": {
     "is_executing": true
    }
   },
   "source": [
    "electors_data = pd.read_csv('electors_data.csv')\n",
    "gender_data = pd.read_csv('genderelection2.csv')\n",
    "race_data = pd.read_csv('raceelection.csv')\n",
    "elections_rural = pd.read_csv('elections_rural.csv')\n",
    "\n",
    "# Display first few rows\n",
    "elections_rural.head()"
   ],
   "outputs": [],
   "execution_count": null
  },
  {
   "cell_type": "markdown",
   "id": "7a3d00fa",
   "metadata": {},
   "source": [
    "## **2. Classify Counties as Rural, Urban, or Suburban**"
   ]
  },
  {
   "cell_type": "code",
   "execution_count": null,
   "id": "88cd840c",
   "metadata": {},
   "outputs": [],
   "source": [
    "def classify_county(county_type):\n",
    "    if county_type in ['Large Urban', 'Medium Urban', 'Small Urban']:\n",
    "        return 'Urban'\n",
    "    elif county_type == 'Large Suburban':\n",
    "        return 'Suburban'\n",
    "    elif county_type == 'Rural':\n",
    "        return 'Rural'\n",
    "    else:\n",
    "        return 'Unknown'\n",
    "\n",
    "elections_rural['county_category'] = elections_rural['county_type'].apply(classify_county)\n",
    "elections_rural['county_category'].value_counts()"
   ]
  },
  {
   "cell_type": "markdown",
   "id": "de542c5e",
   "metadata": {},
   "source": [
    "## **3. Identify Counties That Flipped Parties**"
   ]
  },
  {
   "cell_type": "code",
   "execution_count": null,
   "id": "95e0882a",
   "metadata": {},
   "outputs": [],
   "source": [
    "elections_presidential = elections_rural[elections_rural['office'] == 'US PRESIDENT']\n",
    "elections_presidential['vote_share'] = elections_presidential['candidatevotes'] / elections_presidential['totalvotes']\n",
    "\n",
    "# Determine winners\n",
    "elections_winner = elections_presidential.sort_values(\n",
    "    ['year', 'state', 'county_name', 'vote_share'], ascending=[True, True, True, False]\n",
    ").drop_duplicates(subset=['year', 'state', 'county_name'], keep='first')\n",
    "\n",
    "# Identify flips\n",
    "elections_winner['previous_party'] = elections_winner.groupby(['state', 'county_name'])['party'].shift(1)\n",
    "elections_winner['party_flipped'] = elections_winner['party'] != elections_winner['previous_party']\n",
    "\n",
    "flipped_counts = elections_winner[elections_winner['party_flipped']].groupby('county_category').size().reset_index()\n",
    "flipped_counts.columns = ['county_category', 'flipped_count']\n",
    "flipped_counts"
   ]
  },
  {
   "cell_type": "markdown",
   "id": "7d63d434",
   "metadata": {},
   "source": [
    "## **4. Calculate Vote Margin Shifts**"
   ]
  },
  {
   "cell_type": "code",
   "execution_count": null,
   "id": "27d5486f",
   "metadata": {},
   "outputs": [],
   "source": [
    "elections_margin = elections_presidential.pivot_table(\n",
    "    index=['year', 'state', 'county_name'],\n",
    "    columns='party',\n",
    "    values='vote_share'\n",
    ").fillna(0).reset_index()\n",
    "\n",
    "# Compute margin shift (Republican - Democrat)\n",
    "elections_margin['margin'] = elections_margin.get('REPUBLICAN', 0) - elections_margin.get('DEMOCRAT', 0)\n",
    "\n",
    "# Merge back into winners dataset\n",
    "elections_winner = elections_winner.merge(elections_margin[['year', 'state', 'county_name', 'margin']], on=['year', 'state', 'county_name'], how='left')\n",
    "elections_winner['previous_margin'] = elections_winner.groupby(['state', 'county_name'])['margin'].shift(1)\n",
    "elections_winner['margin_shift'] = elections_winner['margin'] - elections_winner['previous_margin']\n",
    "elections_winner[['state', 'county_name', 'year', 'margin_shift']].dropna().head()"
   ]
  },
  {
   "cell_type": "markdown",
   "id": "604564bd",
   "metadata": {},
   "source": [
    "## **5. Analyze the Impact of Race and Gender**"
   ]
  },
  {
   "cell_type": "code",
   "execution_count": null,
   "id": "3f290d3d",
   "metadata": {},
   "outputs": [],
   "source": [
    "# Convert percentages to numeric values\n",
    "gender_data[['Male', 'Female']] = gender_data[['Male', 'Female']].replace('%', '', regex=True).astype(float) / 100\n",
    "race_data[['White', 'Black', 'Hispanic', 'Asian']] = race_data[['White', 'Black', 'Hispanic', 'Asian']].replace('%', '', regex=True).astype(float) / 100\n",
    "\n",
    "# Standardize state names and merge\n",
    "gender_data.rename(columns={'State': 'state'}, inplace=True)\n",
    "race_data.rename(columns={'State': 'state'}, inplace=True)\n",
    "\n",
    "elections_winner = elections_winner.merge(gender_data[['state', 'Male', 'Female']], on='state', how='left')\n",
    "elections_winner = elections_winner.merge(race_data[['state', 'White', 'Black', 'Hispanic', 'Asian']], on='state', how='left')\n",
    "\n",
    "elections_winner[['Male', 'Female', 'White', 'Black', 'margin_shift']].corr()"
   ]
  },
  {
   "cell_type": "markdown",
   "id": "b5c4c2fe",
   "metadata": {},
   "source": [
    "## **6. Save Processed Data for Visualizations**"
   ]
  },
  {
   "cell_type": "code",
   "execution_count": null,
   "id": "81cc9c41",
   "metadata": {},
   "outputs": [],
   "source": [
    "flipped_counts.to_csv('flipped_counts.csv', index=False)\n",
    "margin_shift_data = elections_winner[['county_category', 'margin_shift']].dropna()\n",
    "margin_shift_data.to_csv('margin_shift_data.csv', index=False)\n",
    "county_fips_lookup = elections_rural[['state', 'county_name', 'county_fips']].drop_duplicates()\n",
    "county_vote_share = elections_margin.merge(county_fips_lookup, on=['state', 'county_name'], how='left')\n",
    "county_vote_share.to_csv('county_vote_share_with_fips.csv', index=False)"
   ]
  },
  {
   "cell_type": "markdown",
   "id": "3b71e53e",
   "metadata": {},
   "source": [
    "## **7. Create Visualizations**"
   ]
  },
  {
   "cell_type": "code",
   "execution_count": null,
   "id": "14da0f1e",
   "metadata": {},
   "outputs": [],
   "source": [
    "# Bar Chart: Number of Counties That Flipped\n",
    "plt.figure(figsize=(8, 5))\n",
    "sns.barplot(x=flipped_counts['county_category'], y=flipped_counts['flipped_count'], palette='coolwarm')\n",
    "plt.title('Number of Counties That Flipped Parties by Category')\n",
    "plt.xlabel('County Category')\n",
    "plt.ylabel('Number of Counties')\n",
    "plt.show()"
   ]
  },
  {
   "cell_type": "code",
   "execution_count": null,
   "id": "f1a1567d",
   "metadata": {},
   "outputs": [],
   "source": [
    "# Histogram: Vote Margin Shifts\n",
    "plt.figure(figsize=(10, 6))\n",
    "for category in ['Rural', 'Urban', 'Unknown']:\n",
    "    subset = margin_shift_data[margin_shift_data['county_category'] == category]['margin_shift'].dropna()\n",
    "    sns.histplot(subset, bins=30, kde=True, label=category, alpha=0.6)\n",
    "plt.title('Distribution of Vote Margin Shifts by County Type')\n",
    "plt.xlabel('Vote Margin Shift')\n",
    "plt.ylabel('Frequency')\n",
    "plt.legend(title='County Type')\n",
    "plt.show()"
   ]
  }
 ],
 "metadata": {},
 "nbformat": 4,
 "nbformat_minor": 5
}
