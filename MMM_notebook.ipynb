{
 "cells": [
  {
   "cell_type": "markdown",
   "metadata": {},
   "source": [
    "# **Marketing Mix Modeling**"
   ]
  },
  {
   "cell_type": "code",
   "metadata": {
    "ExecuteTime": {
     "end_time": "2025-01-30T00:25:04.275035Z",
     "start_time": "2025-01-30T00:25:04.272727Z"
    }
   },
   "source": [
    "#imports and read dataset\n",
    "import pandas as pd\n",
    "import numpy as np\n",
    "import matplotlib.pyplot as plt\n",
    "from robyn.robyn import Robyn\n",
    "from robyn.data.entities.mmmdata import MMMData\n",
    "from robyn.data.entities.holidays_data import HolidaysData\n",
    "from robyn.data.entities.hyperparameters import Hyperparameters, ChannelHyperparameters\n",
    "from robyn.data.entities.enums import AdstockType, DependentVarType"
   ],
   "outputs": [],
   "execution_count": 24
  },
  {
   "cell_type": "markdown",
   "metadata": {},
   "source": "## Begin with some EDA"
  },
  {
   "metadata": {
    "ExecuteTime": {
     "end_time": "2025-01-30T00:25:04.302330Z",
     "start_time": "2025-01-30T00:25:04.288643Z"
    }
   },
   "cell_type": "code",
   "source": [
    "#df = pd.read_csv('input/synthetic_data.csv')\n",
    "df= pd.read_csv('input/synthetic_data.csv')\n",
    "\n",
    "# Load holidays data (used for seasonality modeling)\n",
    "#dt_prophet_holidays = pd.read_csv(\"resources/dt_prophet_holidays.csv\")\n",
    "df.head()"
   ],
   "outputs": [
    {
     "data": {
      "text/plain": [
       "       date  google_pla_I  google_nonpla_I  bing_pla_I  bing_nonpla_I  \\\n",
       "0   10/3/21    33142875.0        7986860.0         NaN       297128.0   \n",
       "1  10/10/21    24838733.0        2338098.0   2635119.0      1751916.0   \n",
       "2  10/17/21    18465422.0        1888239.0   7091734.0      1389649.0   \n",
       "3  10/24/21     7777091.0        2085512.0   1150658.0      1341084.0   \n",
       "4  10/31/21    16411077.0        1185898.0   2111625.0      2237272.0   \n",
       "\n",
       "       meta_I   tiktok_I  pinterest_I  affiliate_I         pr_I  ...  \\\n",
       "0  19106059.0  3608123.0    2211778.0      85693.0  766352587.0  ...   \n",
       "1   5273845.0  1829623.0    1572375.0      80400.0  780232071.0  ...   \n",
       "2   7258917.0  1700600.0     220440.0      66693.0  414680611.0  ...   \n",
       "3   2265796.0  4731052.0     279854.0      50266.0   28433443.0  ...   \n",
       "4  11208520.0  2585920.0    1315035.0      78086.0  509698752.0  ...   \n",
       "\n",
       "   bing_pla_S  bing_nonpla_S     meta_S  tiktok_S  pinterest_S  affiliate_S  \\\n",
       "0    17873.08       10255.34  124335.20  11763.14      4547.54     20017.90   \n",
       "1    16828.26       14368.34  145480.16  10041.34      7535.00     23293.26   \n",
       "2     3592.92       19871.33   94816.12  21856.13      7838.00     12148.58   \n",
       "3     7523.46       52562.39   99636.66   5916.95     17529.28     22046.16   \n",
       "4    17958.50       13397.76  138841.64   9049.22      5933.47     29677.05   \n",
       "\n",
       "      pr_S  influencer_asc_S        sales  competitor_sales_B  \n",
       "0  26594.0           14400.0  25147299.00           460340.82  \n",
       "1   6313.0            4500.0  28903507.02           385431.11  \n",
       "2  26594.0           36200.0  26328953.00           429631.61  \n",
       "3   7193.0           15250.0  31054671.00           438455.96  \n",
       "4   1882.0           13000.0  30692804.00           448547.07  \n",
       "\n",
       "[5 rows x 29 columns]"
      ],
      "text/html": [
       "<div>\n",
       "<style scoped>\n",
       "    .dataframe tbody tr th:only-of-type {\n",
       "        vertical-align: middle;\n",
       "    }\n",
       "\n",
       "    .dataframe tbody tr th {\n",
       "        vertical-align: top;\n",
       "    }\n",
       "\n",
       "    .dataframe thead th {\n",
       "        text-align: right;\n",
       "    }\n",
       "</style>\n",
       "<table border=\"1\" class=\"dataframe\">\n",
       "  <thead>\n",
       "    <tr style=\"text-align: right;\">\n",
       "      <th></th>\n",
       "      <th>date</th>\n",
       "      <th>google_pla_I</th>\n",
       "      <th>google_nonpla_I</th>\n",
       "      <th>bing_pla_I</th>\n",
       "      <th>bing_nonpla_I</th>\n",
       "      <th>meta_I</th>\n",
       "      <th>tiktok_I</th>\n",
       "      <th>pinterest_I</th>\n",
       "      <th>affiliate_I</th>\n",
       "      <th>pr_I</th>\n",
       "      <th>...</th>\n",
       "      <th>bing_pla_S</th>\n",
       "      <th>bing_nonpla_S</th>\n",
       "      <th>meta_S</th>\n",
       "      <th>tiktok_S</th>\n",
       "      <th>pinterest_S</th>\n",
       "      <th>affiliate_S</th>\n",
       "      <th>pr_S</th>\n",
       "      <th>influencer_asc_S</th>\n",
       "      <th>sales</th>\n",
       "      <th>competitor_sales_B</th>\n",
       "    </tr>\n",
       "  </thead>\n",
       "  <tbody>\n",
       "    <tr>\n",
       "      <th>0</th>\n",
       "      <td>10/3/21</td>\n",
       "      <td>33142875.0</td>\n",
       "      <td>7986860.0</td>\n",
       "      <td>NaN</td>\n",
       "      <td>297128.0</td>\n",
       "      <td>19106059.0</td>\n",
       "      <td>3608123.0</td>\n",
       "      <td>2211778.0</td>\n",
       "      <td>85693.0</td>\n",
       "      <td>766352587.0</td>\n",
       "      <td>...</td>\n",
       "      <td>17873.08</td>\n",
       "      <td>10255.34</td>\n",
       "      <td>124335.20</td>\n",
       "      <td>11763.14</td>\n",
       "      <td>4547.54</td>\n",
       "      <td>20017.90</td>\n",
       "      <td>26594.0</td>\n",
       "      <td>14400.0</td>\n",
       "      <td>25147299.00</td>\n",
       "      <td>460340.82</td>\n",
       "    </tr>\n",
       "    <tr>\n",
       "      <th>1</th>\n",
       "      <td>10/10/21</td>\n",
       "      <td>24838733.0</td>\n",
       "      <td>2338098.0</td>\n",
       "      <td>2635119.0</td>\n",
       "      <td>1751916.0</td>\n",
       "      <td>5273845.0</td>\n",
       "      <td>1829623.0</td>\n",
       "      <td>1572375.0</td>\n",
       "      <td>80400.0</td>\n",
       "      <td>780232071.0</td>\n",
       "      <td>...</td>\n",
       "      <td>16828.26</td>\n",
       "      <td>14368.34</td>\n",
       "      <td>145480.16</td>\n",
       "      <td>10041.34</td>\n",
       "      <td>7535.00</td>\n",
       "      <td>23293.26</td>\n",
       "      <td>6313.0</td>\n",
       "      <td>4500.0</td>\n",
       "      <td>28903507.02</td>\n",
       "      <td>385431.11</td>\n",
       "    </tr>\n",
       "    <tr>\n",
       "      <th>2</th>\n",
       "      <td>10/17/21</td>\n",
       "      <td>18465422.0</td>\n",
       "      <td>1888239.0</td>\n",
       "      <td>7091734.0</td>\n",
       "      <td>1389649.0</td>\n",
       "      <td>7258917.0</td>\n",
       "      <td>1700600.0</td>\n",
       "      <td>220440.0</td>\n",
       "      <td>66693.0</td>\n",
       "      <td>414680611.0</td>\n",
       "      <td>...</td>\n",
       "      <td>3592.92</td>\n",
       "      <td>19871.33</td>\n",
       "      <td>94816.12</td>\n",
       "      <td>21856.13</td>\n",
       "      <td>7838.00</td>\n",
       "      <td>12148.58</td>\n",
       "      <td>26594.0</td>\n",
       "      <td>36200.0</td>\n",
       "      <td>26328953.00</td>\n",
       "      <td>429631.61</td>\n",
       "    </tr>\n",
       "    <tr>\n",
       "      <th>3</th>\n",
       "      <td>10/24/21</td>\n",
       "      <td>7777091.0</td>\n",
       "      <td>2085512.0</td>\n",
       "      <td>1150658.0</td>\n",
       "      <td>1341084.0</td>\n",
       "      <td>2265796.0</td>\n",
       "      <td>4731052.0</td>\n",
       "      <td>279854.0</td>\n",
       "      <td>50266.0</td>\n",
       "      <td>28433443.0</td>\n",
       "      <td>...</td>\n",
       "      <td>7523.46</td>\n",
       "      <td>52562.39</td>\n",
       "      <td>99636.66</td>\n",
       "      <td>5916.95</td>\n",
       "      <td>17529.28</td>\n",
       "      <td>22046.16</td>\n",
       "      <td>7193.0</td>\n",
       "      <td>15250.0</td>\n",
       "      <td>31054671.00</td>\n",
       "      <td>438455.96</td>\n",
       "    </tr>\n",
       "    <tr>\n",
       "      <th>4</th>\n",
       "      <td>10/31/21</td>\n",
       "      <td>16411077.0</td>\n",
       "      <td>1185898.0</td>\n",
       "      <td>2111625.0</td>\n",
       "      <td>2237272.0</td>\n",
       "      <td>11208520.0</td>\n",
       "      <td>2585920.0</td>\n",
       "      <td>1315035.0</td>\n",
       "      <td>78086.0</td>\n",
       "      <td>509698752.0</td>\n",
       "      <td>...</td>\n",
       "      <td>17958.50</td>\n",
       "      <td>13397.76</td>\n",
       "      <td>138841.64</td>\n",
       "      <td>9049.22</td>\n",
       "      <td>5933.47</td>\n",
       "      <td>29677.05</td>\n",
       "      <td>1882.0</td>\n",
       "      <td>13000.0</td>\n",
       "      <td>30692804.00</td>\n",
       "      <td>448547.07</td>\n",
       "    </tr>\n",
       "  </tbody>\n",
       "</table>\n",
       "<p>5 rows × 29 columns</p>\n",
       "</div>"
      ]
     },
     "execution_count": 25,
     "metadata": {},
     "output_type": "execute_result"
    }
   ],
   "execution_count": 25
  },
  {
   "metadata": {
    "ExecuteTime": {
     "end_time": "2025-01-30T00:25:04.335913Z",
     "start_time": "2025-01-30T00:25:04.329470Z"
    }
   },
   "cell_type": "code",
   "source": [
    "\n",
    "mmm_data_spec = MMMData.MMMDataSpec(\n",
    "    dep_var='sales',  # Target variable\n",
    "    dep_var_type=\"revenue\",  # Type: \"revenue\" or \"conversion\"\n",
    "    date_var=\"date\",  # Date column name\n",
    "    context_vars=['competitor_sales_B'],#, 'events'],\n",
    "    paid_media_spends=['meta_S', 'tiktok_S', 'pinterest_S', 'affiliate_S', 'influencer_asc_S', 'google_pla_S', 'google_nonpla_S', 'bing_pla_S', 'bing_nonpla_I', 'pr_S'],  # Media spend columns\n",
    "    paid_media_vars=['meta_I','tiktok_I', 'pinterest_I', 'affiliate_I', 'influencer_asc_I', 'google_pla_I', 'google_nonpla_I', 'bing_pla_I', 'bing_nonpla_I', 'pr_I'],  # Media metrics\n",
    "    organic_vars=['organic_youtube_I', 'organic_facebook_I', 'organic_instagram_I', 'organic_pinterest_I', 'organic_tiktok_I'],  # Non-paid marketing activities\n",
    "    factor_vars=[],\n",
    "    window_start=\"2021-10-03\",  # Analysis start date\n",
    "    window_end=\"2024-09-22\" # Analysis end date\n",
    ")\n",
    "\n",
    "mmm_data = MMMData(data=df, mmmdata_spec=mmm_data_spec)"
   ],
   "outputs": [
    {
     "name": "stderr",
     "output_type": "stream",
     "text": [
      "/Library/Frameworks/Python.framework/Versions/3.13/lib/python3.13/site-packages/robyn/data/entities/mmmdata.py:203: UserWarning: Could not infer format, so each element will be parsed individually, falling back to `dateutil`. To ensure parsing is consistent and as-expected, please specify a format.\n",
      "  self.data[self.mmmdata_spec.date_var] = pd.to_datetime(\n"
     ]
    }
   ],
   "execution_count": 26
  },
  {
   "cell_type": "code",
   "metadata": {
    "ExecuteTime": {
     "end_time": "2025-01-30T00:25:04.370037Z",
     "start_time": "2025-01-30T00:25:04.365104Z"
    }
   },
   "source": [
    "#specify hyperparameters for each variable\n",
    "hyperparameters = Hyperparameters(\n",
    "    hyperparameters={\n",
    "        # Paid Channels\n",
    "        \"meta_S\": ChannelHyperparameters(alphas=[0.5, 3], gammas=[0.3, 1], thetas=[0, 0.3],),\n",
    "        \"tiktok_S\": ChannelHyperparameters(alphas=[0.5, 3], gammas=[0.3, 1], thetas=[0, 0.3],),\n",
    "        \"pinterest_S\": ChannelHyperparameters(alphas=[0.5, 3], gammas=[0.3, 1], thetas=[0, 0.3],),\n",
    "        \"affiliate_S\": ChannelHyperparameters(alphas=[0.5, 3], gammas=[0.3, 1], thetas=[0, 0.3],),\n",
    "        \"influencer_asc_S\": ChannelHyperparameters(alphas=[0.5, 3], gammas=[0.3, 1], thetas=[0, 0.3],),\n",
    "        \"pr_S\": ChannelHyperparameters(alphas=[0.5, 3], gammas=[0.3, 1], thetas=[0, 0.3],),\n",
    "        'google_pla_S': ChannelHyperparameters(alphas=[0.5, 3], gammas=[0.3, 1], thetas=[0, 0.3],),\n",
    "        'google_nonpla_S': ChannelHyperparameters(alphas=[0.5, 3], gammas=[0.3, 1], thetas=[0, 0.3],),\n",
    "        'bing_pla_S': ChannelHyperparameters(alphas=[0.5, 3], gammas=[0.3, 1], thetas=[0, 0.3],),\n",
    "        'bing_nonpla_S': ChannelHyperparameters(alphas=[0.5, 3], gammas=[0.3, 1], thetas=[0, 0.3],),\n",
    "        #'search_S': ChannelHyperparameters(alphas=[0.5, 3], gammas=[0.3, 1], thetas=[0, 0.3],),\n",
    "        # Paid Channels (Incremental)\n",
    "        \"meta_I\": ChannelHyperparameters(alphas=[0.5, 3], gammas=[0.3, 1], thetas=[0.1, 0.4],),\n",
    "        \"tiktok_I\": ChannelHyperparameters(alphas=[0.5, 3], gammas=[0.3, 1], thetas=[0.1, 0.4],),\n",
    "        \"pinterest_I\": ChannelHyperparameters(alphas=[0.5, 3], gammas=[0.3, 1], thetas=[0.1, 0.4],),\n",
    "        \"affiliate_I\": ChannelHyperparameters(alphas=[0.5, 3], gammas=[0.3, 1], thetas=[0.1, 0.4],),\n",
    "        \"influencer_asc_I\": ChannelHyperparameters(alphas=[0.5, 3], gammas=[0.3, 1], thetas=[0.1, 0.4],),\n",
    "        \"pr_I\": ChannelHyperparameters(alphas=[0.5, 3], gammas=[0.3, 1], thetas=[0.1, 0.4],),\n",
    "        'google_pla_I': ChannelHyperparameters(alphas=[0.5, 3], gammas=[0.3, 1], thetas=[0.1, 0.4],),\n",
    "        'google_nonpla_I': ChannelHyperparameters(alphas=[0.5, 3], gammas=[0.3, 1], thetas=[0.1, 0.4],),\n",
    "        'bing_pla_I':ChannelHyperparameters(alphas=[0.5, 3], gammas=[0.3, 1], thetas=[0.1, 0.4],),\n",
    "        'bing_nonpla_I':ChannelHyperparameters(alphas=[0.5, 3], gammas=[0.3, 1], thetas=[0.1, 0.4],),\n",
    "       #'search_I':ChannelHyperparameters(alphas=[0.5, 3], gammas=[0.3, 1], thetas=[0.1, 0.4],),\n",
    "        # Organic Channels\n",
    "        \"organic_youtube_I\": ChannelHyperparameters(alphas=[0.5, 3], gammas=[0.3, 1], thetas=[0.1, 0.3],),  # Default theta for organic channels),\n",
    "        \"organic_facebook_I\": ChannelHyperparameters(alphas=[0.5, 3], gammas=[0.3, 1], thetas=[0.1, 0.3],),\n",
    "        \"organic_instagram_I\": ChannelHyperparameters(alphas=[0.5, 3], gammas=[0.3, 1], thetas=[0.1, 0.3],),\n",
    "        \"organic_pinterest_I\": ChannelHyperparameters(alphas=[0.5, 3], gammas=[0.3, 1], thetas=[0.1, 0.3],),\n",
    "        \"organic_tiktok_I\": ChannelHyperparameters(alphas=[0.5, 3], gammas=[0.3, 1], thetas=[0.1, 0.3],)\n",
    "    },\n",
    "    adstock=AdstockType.GEOMETRIC,  # Default adstock type\n",
    "    lambda_=[0.0001, 0.001, 0.01, 0.1, 1, 10],               # Regularization range\n",
    "    train_size=[0.7, 0.8],         # Default train size\n",
    ")"
   ],
   "outputs": [],
   "execution_count": 27
  },
  {
   "metadata": {
    "ExecuteTime": {
     "end_time": "2025-01-30T00:25:04.428299Z",
     "start_time": "2025-01-30T00:25:04.400384Z"
    }
   },
   "cell_type": "code",
   "source": [
    "holidays_data = HolidaysData(\n",
    "    dt_holidays=pd.read_csv('/Users/grs/Documents/GA DAI/Capstone/Marketing Mix Modeling/formatted_holidays.csv'),\n",
    "    prophet_vars=[\"trend\", \"season\", \"holiday\"],\n",
    "    prophet_country=\"US\",\n",
    "    prophet_signs=[\"default\", \"default\", \"default\"],\n",
    ")"
   ],
   "outputs": [],
   "execution_count": 28
  },
  {
   "cell_type": "code",
   "metadata": {
    "ExecuteTime": {
     "end_time": "2025-01-30T00:25:04.457709Z",
     "start_time": "2025-01-30T00:25:04.433301Z"
    }
   },
   "source": [
    "#initialize the model\n",
    "robyn = Robyn(working_dir=\"output\")\n",
    "robyn.initialize(\n",
    "    mmm_data=mmm_data,\n",
    "    holidays_data=holidays_data,\n",
    "    hyperparameters=hyperparameters,\n",
    ")"
   ],
   "outputs": [
    {
     "name": "stderr",
     "output_type": "stream",
     "text": [
      "INFO: Initialized Robyn in output\n",
      "INFO: Initialized Robyn in output\n",
      "INFO: Initialized Robyn in output\n",
      "INFO: Initialized Robyn in output\n",
      "2025-01-29 19:25:04,434 - robyn.robyn - INFO - Initialized Robyn in output\n",
      "INFO: Validating input data\n",
      "INFO: Validating input data\n",
      "INFO: Validating input data\n",
      "INFO: Validating input data\n",
      "2025-01-29 19:25:04,436 - robyn.robyn - INFO - Validating input data\n",
      "2025-01-29 19:25:04,438 - robyn.data.validation.mmmdata_validation - INFO - Starting complete MMMData validation\n",
      "2025-01-29 19:25:04,440 - robyn.data.validation.mmmdata_validation - WARNING - Found missing values in columns: ['date', 'google_pla_I', 'google_nonpla_I', 'bing_pla_I', 'bing_nonpla_I', 'meta_I', 'tiktok_I', 'pinterest_I', 'affiliate_I', 'pr_I', 'influencer_asc_I', 'organic_youtube_I', 'organic_facebook_I', 'organic_instagram_I', 'organic_pinterest_I', 'organic_tiktok_I', 'events', 'google_pla_S', 'google_nonpla_S', 'bing_pla_S', 'bing_nonpla_S', 'meta_S', 'tiktok_S', 'pinterest_S', 'affiliate_S', 'pr_S', 'influencer_asc_S', 'sales', 'competitor_sales_B']\n",
      "2025-01-29 19:25:04,440 - robyn.data.validation.mmmdata_validation - ERROR - Validation failed: Dataset contains missing (NA) values in columns: date, google_pla_I, google_nonpla_I, bing_pla_I, bing_nonpla_I, meta_I, tiktok_I, pinterest_I, affiliate_I, pr_I, influencer_asc_I, organic_youtube_I, organic_facebook_I, organic_instagram_I, organic_pinterest_I, organic_tiktok_I, events, google_pla_S, google_nonpla_S, bing_pla_S, bing_nonpla_S, meta_S, tiktok_S, pinterest_S, affiliate_S, pr_S, influencer_asc_S, sales, competitor_sales_B. These values must be removed or fixed for Robyn to properly work.\n",
      "2025-01-29 19:25:04,443 - robyn.data.validation.mmmdata_validation - INFO - No-variance check passed successfully\n",
      "2025-01-29 19:25:04,443 - robyn.data.validation.mmmdata_validation - INFO - Variable names validation passed successfully\n",
      "2025-01-29 19:25:04,444 - robyn.data.validation.mmmdata_validation - WARNING - Date variable validation failed: dates not in ascending order\n",
      "2025-01-29 19:25:04,444 - robyn.data.validation.mmmdata_validation - INFO - Dependent variable validation passed successfully\n",
      "2025-01-29 19:25:04,444 - robyn.data.validation.mmmdata_validation - ERROR - Validation completed with 2 failures\n",
      "2025-01-29 19:25:04,445 - robyn.data.validation.holidays_data_validation - INFO - Starting complete validation process\n",
      "2025-01-29 19:25:04,451 - robyn.data.validation.holidays_data_validation - INFO - Holidays validation completed. Status: True\n",
      "2025-01-29 19:25:04,453 - robyn.data.validation.holidays_data_validation - INFO - Prophet validation completed. Status: True\n",
      "2025-01-29 19:25:04,453 - robyn.data.validation.holidays_data_validation - INFO - Validation complete. Overall status: True\n",
      "2025-01-29 19:25:04,454 - robyn.data.validation.hyperparameter_validation - INFO - Starting validation process\n",
      "2025-01-29 19:25:04,454 - robyn.data.validation.hyperparameter_validation - INFO - Starting hyperparameters validation\n",
      "2025-01-29 19:25:04,454 - robyn.data.validation.hyperparameter_validation - INFO - Hyperparameter validation completed. Status: True\n",
      "2025-01-29 19:25:04,455 - robyn.data.validation.hyperparameter_validation - INFO - Validation completed with status: True\n",
      "INFO: Data initialization complete\n",
      "INFO: Data initialization complete\n",
      "INFO: Data initialization complete\n",
      "INFO: Data initialization complete\n",
      "2025-01-29 19:25:04,455 - robyn.robyn - INFO - Data initialization complete\n"
     ]
    }
   ],
   "execution_count": 29
  },
  {
   "cell_type": "code",
   "metadata": {
    "ExecuteTime": {
     "end_time": "2025-01-30T00:26:38.832928Z",
     "start_time": "2025-01-30T00:26:38.741645Z"
    }
   },
   "source": [
    "#matplotlib to visualize feature relationships\n",
    "%matplotlib inline\n",
    "# Run feature engineering\n",
    "robyn.feature_engineering();"
   ],
   "outputs": [
    {
     "name": "stderr",
     "output_type": "stream",
     "text": [
      "INFO: Performing feature engineering\n",
      "INFO: Performing feature engineering\n",
      "INFO: Performing feature engineering\n",
      "INFO: Performing feature engineering\n",
      "2025-01-29 19:26:38,745 - robyn.robyn - INFO - Performing feature engineering\n",
      "2025-01-29 19:26:38,752 - robyn.modeling.feature_engineering - INFO - Starting feature engineering process\n",
      "2025-01-29 19:26:38,758 - root - ERROR - Error in feature engineering: Cannot convert non-finite values (NA or inf) to integer\n"
     ]
    },
    {
     "ename": "IntCastingNaNError",
     "evalue": "Cannot convert non-finite values (NA or inf) to integer",
     "output_type": "error",
     "traceback": [
      "\u001B[0;31m---------------------------------------------------------------------------\u001B[0m",
      "\u001B[0;31mIntCastingNaNError\u001B[0m                        Traceback (most recent call last)",
      "Cell \u001B[0;32mIn[31], line 4\u001B[0m\n\u001B[1;32m      2\u001B[0m get_ipython()\u001B[38;5;241m.\u001B[39mrun_line_magic(\u001B[38;5;124m'\u001B[39m\u001B[38;5;124mmatplotlib\u001B[39m\u001B[38;5;124m'\u001B[39m, \u001B[38;5;124m'\u001B[39m\u001B[38;5;124minline\u001B[39m\u001B[38;5;124m'\u001B[39m)\n\u001B[1;32m      3\u001B[0m \u001B[38;5;66;03m# Run feature engineering\u001B[39;00m\n\u001B[0;32m----> 4\u001B[0m \u001B[43mrobyn\u001B[49m\u001B[38;5;241;43m.\u001B[39;49m\u001B[43mfeature_engineering\u001B[49m\u001B[43m(\u001B[49m\u001B[43m)\u001B[49m;\n",
      "File \u001B[0;32m/Library/Frameworks/Python.framework/Versions/3.13/lib/python3.13/site-packages/robyn/robyn.py:146\u001B[0m, in \u001B[0;36mRobyn.feature_engineering\u001B[0;34m(self, display_plots, export_plots)\u001B[0m\n\u001B[1;32m    141\u001B[0m \u001B[38;5;28;01mtry\u001B[39;00m:\n\u001B[1;32m    142\u001B[0m     \u001B[38;5;66;03m# Initialize FeatureEngineering and process data\u001B[39;00m\n\u001B[1;32m    143\u001B[0m     feature_engineering \u001B[38;5;241m=\u001B[39m FeatureEngineering(\n\u001B[1;32m    144\u001B[0m         \u001B[38;5;28mself\u001B[39m\u001B[38;5;241m.\u001B[39mmmm_data, \u001B[38;5;28mself\u001B[39m\u001B[38;5;241m.\u001B[39mhyperparameters, \u001B[38;5;28mself\u001B[39m\u001B[38;5;241m.\u001B[39mholidays_data\n\u001B[1;32m    145\u001B[0m     )\n\u001B[0;32m--> 146\u001B[0m     \u001B[38;5;28mself\u001B[39m\u001B[38;5;241m.\u001B[39mfeaturized_mmm_data \u001B[38;5;241m=\u001B[39m \u001B[43mfeature_engineering\u001B[49m\u001B[38;5;241;43m.\u001B[39;49m\u001B[43mperform_feature_engineering\u001B[49m\u001B[43m(\u001B[49m\u001B[43m)\u001B[49m\n\u001B[1;32m    148\u001B[0m     \u001B[38;5;28;01mif\u001B[39;00m display_plots \u001B[38;5;129;01mor\u001B[39;00m export_plots:\n\u001B[1;32m    149\u001B[0m         feature_plotter \u001B[38;5;241m=\u001B[39m FeaturePlotter(\n\u001B[1;32m    150\u001B[0m             \u001B[38;5;28mself\u001B[39m\u001B[38;5;241m.\u001B[39mmmm_data, \u001B[38;5;28mself\u001B[39m\u001B[38;5;241m.\u001B[39mhyperparameters, \u001B[38;5;28mself\u001B[39m\u001B[38;5;241m.\u001B[39mfeaturized_mmm_data\n\u001B[1;32m    151\u001B[0m         )\n",
      "File \u001B[0;32m/Library/Frameworks/Python.framework/Versions/3.13/lib/python3.13/site-packages/robyn/modeling/feature_engineering.py:49\u001B[0m, in \u001B[0;36mFeatureEngineering.perform_feature_engineering\u001B[0;34m(self, quiet)\u001B[0m\n\u001B[1;32m     46\u001B[0m \u001B[38;5;28mself\u001B[39m\u001B[38;5;241m.\u001B[39mlogger\u001B[38;5;241m.\u001B[39minfo(\u001B[38;5;124m\"\u001B[39m\u001B[38;5;124mStarting feature engineering process\u001B[39m\u001B[38;5;124m\"\u001B[39m)\n\u001B[1;32m     47\u001B[0m \u001B[38;5;28mself\u001B[39m\u001B[38;5;241m.\u001B[39mlogger\u001B[38;5;241m.\u001B[39mdebug(\u001B[38;5;124mf\u001B[39m\u001B[38;5;124m\"\u001B[39m\u001B[38;5;124mInput data shape: \u001B[39m\u001B[38;5;132;01m{\u001B[39;00m\u001B[38;5;28mself\u001B[39m\u001B[38;5;241m.\u001B[39mmmm_data\u001B[38;5;241m.\u001B[39mdata\u001B[38;5;241m.\u001B[39mshape\u001B[38;5;132;01m}\u001B[39;00m\u001B[38;5;124m\"\u001B[39m)\n\u001B[0;32m---> 49\u001B[0m dt_transform \u001B[38;5;241m=\u001B[39m \u001B[38;5;28;43mself\u001B[39;49m\u001B[38;5;241;43m.\u001B[39;49m\u001B[43m_prepare_data\u001B[49m\u001B[43m(\u001B[49m\u001B[43m)\u001B[49m\n\u001B[1;32m     50\u001B[0m \u001B[38;5;28mself\u001B[39m\u001B[38;5;241m.\u001B[39mlogger\u001B[38;5;241m.\u001B[39mdebug(\u001B[38;5;124mf\u001B[39m\u001B[38;5;124m\"\u001B[39m\u001B[38;5;124mPrepared data shape: \u001B[39m\u001B[38;5;132;01m{\u001B[39;00mdt_transform\u001B[38;5;241m.\u001B[39mshape\u001B[38;5;132;01m}\u001B[39;00m\u001B[38;5;124m\"\u001B[39m)\n\u001B[1;32m     52\u001B[0m \u001B[38;5;28;01mif\u001B[39;00m \u001B[38;5;28many\u001B[39m(\n\u001B[1;32m     53\u001B[0m     var \u001B[38;5;129;01min\u001B[39;00m \u001B[38;5;28mself\u001B[39m\u001B[38;5;241m.\u001B[39mholidays_data\u001B[38;5;241m.\u001B[39mprophet_vars\n\u001B[1;32m     54\u001B[0m     \u001B[38;5;28;01mfor\u001B[39;00m var \u001B[38;5;129;01min\u001B[39;00m [\u001B[38;5;124m\"\u001B[39m\u001B[38;5;124mtrend\u001B[39m\u001B[38;5;124m\"\u001B[39m, \u001B[38;5;124m\"\u001B[39m\u001B[38;5;124mseason\u001B[39m\u001B[38;5;124m\"\u001B[39m, \u001B[38;5;124m\"\u001B[39m\u001B[38;5;124mholiday\u001B[39m\u001B[38;5;124m\"\u001B[39m, \u001B[38;5;124m\"\u001B[39m\u001B[38;5;124mmonthly\u001B[39m\u001B[38;5;124m\"\u001B[39m, \u001B[38;5;124m\"\u001B[39m\u001B[38;5;124mweekday\u001B[39m\u001B[38;5;124m\"\u001B[39m]\n\u001B[1;32m     55\u001B[0m ):\n",
      "File \u001B[0;32m/Library/Frameworks/Python.framework/Versions/3.13/lib/python3.13/site-packages/robyn/modeling/feature_engineering.py:112\u001B[0m, in \u001B[0;36mFeatureEngineering._prepare_data\u001B[0;34m(self)\u001B[0m\n\u001B[1;32m    108\u001B[0m dt_transform[\u001B[38;5;124m\"\u001B[39m\u001B[38;5;124mds\u001B[39m\u001B[38;5;124m\"\u001B[39m] \u001B[38;5;241m=\u001B[39m pd\u001B[38;5;241m.\u001B[39mto_datetime(\n\u001B[1;32m    109\u001B[0m     dt_transform[\u001B[38;5;28mself\u001B[39m\u001B[38;5;241m.\u001B[39mmmm_data\u001B[38;5;241m.\u001B[39mmmmdata_spec\u001B[38;5;241m.\u001B[39mdate_var]\n\u001B[1;32m    110\u001B[0m )\u001B[38;5;241m.\u001B[39mdt\u001B[38;5;241m.\u001B[39mstrftime(\u001B[38;5;124m\"\u001B[39m\u001B[38;5;124m%\u001B[39m\u001B[38;5;124mY-\u001B[39m\u001B[38;5;124m%\u001B[39m\u001B[38;5;124mm-\u001B[39m\u001B[38;5;132;01m%d\u001B[39;00m\u001B[38;5;124m\"\u001B[39m)\n\u001B[1;32m    111\u001B[0m dt_transform[\u001B[38;5;124m\"\u001B[39m\u001B[38;5;124mdep_var\u001B[39m\u001B[38;5;124m\"\u001B[39m] \u001B[38;5;241m=\u001B[39m dt_transform[\u001B[38;5;28mself\u001B[39m\u001B[38;5;241m.\u001B[39mmmm_data\u001B[38;5;241m.\u001B[39mmmmdata_spec\u001B[38;5;241m.\u001B[39mdep_var]\n\u001B[0;32m--> 112\u001B[0m dt_transform[\u001B[38;5;124m\"\u001B[39m\u001B[38;5;124mcompetitor_sales_B\u001B[39m\u001B[38;5;124m\"\u001B[39m] \u001B[38;5;241m=\u001B[39m \u001B[43mdt_transform\u001B[49m\u001B[43m[\u001B[49m\u001B[38;5;124;43m\"\u001B[39;49m\u001B[38;5;124;43mcompetitor_sales_B\u001B[39;49m\u001B[38;5;124;43m\"\u001B[39;49m\u001B[43m]\u001B[49m\u001B[38;5;241;43m.\u001B[39;49m\u001B[43mastype\u001B[49m\u001B[43m(\u001B[49m\n\u001B[1;32m    113\u001B[0m \u001B[43m    \u001B[49m\u001B[38;5;124;43m\"\u001B[39;49m\u001B[38;5;124;43mint64\u001B[39;49m\u001B[38;5;124;43m\"\u001B[39;49m\n\u001B[1;32m    114\u001B[0m \u001B[43m\u001B[49m\u001B[43m)\u001B[49m\n\u001B[1;32m    115\u001B[0m \u001B[38;5;28mself\u001B[39m\u001B[38;5;241m.\u001B[39mlogger\u001B[38;5;241m.\u001B[39mdebug(\u001B[38;5;124m\"\u001B[39m\u001B[38;5;124mData preparation complete\u001B[39m\u001B[38;5;124m\"\u001B[39m)\n\u001B[1;32m    116\u001B[0m \u001B[38;5;28;01mreturn\u001B[39;00m dt_transform\n",
      "File \u001B[0;32m/Library/Frameworks/Python.framework/Versions/3.13/lib/python3.13/site-packages/pandas/core/generic.py:6643\u001B[0m, in \u001B[0;36mNDFrame.astype\u001B[0;34m(self, dtype, copy, errors)\u001B[0m\n\u001B[1;32m   6637\u001B[0m     results \u001B[38;5;241m=\u001B[39m [\n\u001B[1;32m   6638\u001B[0m         ser\u001B[38;5;241m.\u001B[39mastype(dtype, copy\u001B[38;5;241m=\u001B[39mcopy, errors\u001B[38;5;241m=\u001B[39merrors) \u001B[38;5;28;01mfor\u001B[39;00m _, ser \u001B[38;5;129;01min\u001B[39;00m \u001B[38;5;28mself\u001B[39m\u001B[38;5;241m.\u001B[39mitems()\n\u001B[1;32m   6639\u001B[0m     ]\n\u001B[1;32m   6641\u001B[0m \u001B[38;5;28;01melse\u001B[39;00m:\n\u001B[1;32m   6642\u001B[0m     \u001B[38;5;66;03m# else, only a single dtype is given\u001B[39;00m\n\u001B[0;32m-> 6643\u001B[0m     new_data \u001B[38;5;241m=\u001B[39m \u001B[38;5;28;43mself\u001B[39;49m\u001B[38;5;241;43m.\u001B[39;49m\u001B[43m_mgr\u001B[49m\u001B[38;5;241;43m.\u001B[39;49m\u001B[43mastype\u001B[49m\u001B[43m(\u001B[49m\u001B[43mdtype\u001B[49m\u001B[38;5;241;43m=\u001B[39;49m\u001B[43mdtype\u001B[49m\u001B[43m,\u001B[49m\u001B[43m \u001B[49m\u001B[43mcopy\u001B[49m\u001B[38;5;241;43m=\u001B[39;49m\u001B[43mcopy\u001B[49m\u001B[43m,\u001B[49m\u001B[43m \u001B[49m\u001B[43merrors\u001B[49m\u001B[38;5;241;43m=\u001B[39;49m\u001B[43merrors\u001B[49m\u001B[43m)\u001B[49m\n\u001B[1;32m   6644\u001B[0m     res \u001B[38;5;241m=\u001B[39m \u001B[38;5;28mself\u001B[39m\u001B[38;5;241m.\u001B[39m_constructor_from_mgr(new_data, axes\u001B[38;5;241m=\u001B[39mnew_data\u001B[38;5;241m.\u001B[39maxes)\n\u001B[1;32m   6645\u001B[0m     \u001B[38;5;28;01mreturn\u001B[39;00m res\u001B[38;5;241m.\u001B[39m__finalize__(\u001B[38;5;28mself\u001B[39m, method\u001B[38;5;241m=\u001B[39m\u001B[38;5;124m\"\u001B[39m\u001B[38;5;124mastype\u001B[39m\u001B[38;5;124m\"\u001B[39m)\n",
      "File \u001B[0;32m/Library/Frameworks/Python.framework/Versions/3.13/lib/python3.13/site-packages/pandas/core/internals/managers.py:430\u001B[0m, in \u001B[0;36mBaseBlockManager.astype\u001B[0;34m(self, dtype, copy, errors)\u001B[0m\n\u001B[1;32m    427\u001B[0m \u001B[38;5;28;01melif\u001B[39;00m using_copy_on_write():\n\u001B[1;32m    428\u001B[0m     copy \u001B[38;5;241m=\u001B[39m \u001B[38;5;28;01mFalse\u001B[39;00m\n\u001B[0;32m--> 430\u001B[0m \u001B[38;5;28;01mreturn\u001B[39;00m \u001B[38;5;28;43mself\u001B[39;49m\u001B[38;5;241;43m.\u001B[39;49m\u001B[43mapply\u001B[49m\u001B[43m(\u001B[49m\n\u001B[1;32m    431\u001B[0m \u001B[43m    \u001B[49m\u001B[38;5;124;43m\"\u001B[39;49m\u001B[38;5;124;43mastype\u001B[39;49m\u001B[38;5;124;43m\"\u001B[39;49m\u001B[43m,\u001B[49m\n\u001B[1;32m    432\u001B[0m \u001B[43m    \u001B[49m\u001B[43mdtype\u001B[49m\u001B[38;5;241;43m=\u001B[39;49m\u001B[43mdtype\u001B[49m\u001B[43m,\u001B[49m\n\u001B[1;32m    433\u001B[0m \u001B[43m    \u001B[49m\u001B[43mcopy\u001B[49m\u001B[38;5;241;43m=\u001B[39;49m\u001B[43mcopy\u001B[49m\u001B[43m,\u001B[49m\n\u001B[1;32m    434\u001B[0m \u001B[43m    \u001B[49m\u001B[43merrors\u001B[49m\u001B[38;5;241;43m=\u001B[39;49m\u001B[43merrors\u001B[49m\u001B[43m,\u001B[49m\n\u001B[1;32m    435\u001B[0m \u001B[43m    \u001B[49m\u001B[43musing_cow\u001B[49m\u001B[38;5;241;43m=\u001B[39;49m\u001B[43musing_copy_on_write\u001B[49m\u001B[43m(\u001B[49m\u001B[43m)\u001B[49m\u001B[43m,\u001B[49m\n\u001B[1;32m    436\u001B[0m \u001B[43m\u001B[49m\u001B[43m)\u001B[49m\n",
      "File \u001B[0;32m/Library/Frameworks/Python.framework/Versions/3.13/lib/python3.13/site-packages/pandas/core/internals/managers.py:363\u001B[0m, in \u001B[0;36mBaseBlockManager.apply\u001B[0;34m(self, f, align_keys, **kwargs)\u001B[0m\n\u001B[1;32m    361\u001B[0m         applied \u001B[38;5;241m=\u001B[39m b\u001B[38;5;241m.\u001B[39mapply(f, \u001B[38;5;241m*\u001B[39m\u001B[38;5;241m*\u001B[39mkwargs)\n\u001B[1;32m    362\u001B[0m     \u001B[38;5;28;01melse\u001B[39;00m:\n\u001B[0;32m--> 363\u001B[0m         applied \u001B[38;5;241m=\u001B[39m \u001B[38;5;28;43mgetattr\u001B[39;49m\u001B[43m(\u001B[49m\u001B[43mb\u001B[49m\u001B[43m,\u001B[49m\u001B[43m \u001B[49m\u001B[43mf\u001B[49m\u001B[43m)\u001B[49m\u001B[43m(\u001B[49m\u001B[38;5;241;43m*\u001B[39;49m\u001B[38;5;241;43m*\u001B[39;49m\u001B[43mkwargs\u001B[49m\u001B[43m)\u001B[49m\n\u001B[1;32m    364\u001B[0m     result_blocks \u001B[38;5;241m=\u001B[39m extend_blocks(applied, result_blocks)\n\u001B[1;32m    366\u001B[0m out \u001B[38;5;241m=\u001B[39m \u001B[38;5;28mtype\u001B[39m(\u001B[38;5;28mself\u001B[39m)\u001B[38;5;241m.\u001B[39mfrom_blocks(result_blocks, \u001B[38;5;28mself\u001B[39m\u001B[38;5;241m.\u001B[39maxes)\n",
      "File \u001B[0;32m/Library/Frameworks/Python.framework/Versions/3.13/lib/python3.13/site-packages/pandas/core/internals/blocks.py:758\u001B[0m, in \u001B[0;36mBlock.astype\u001B[0;34m(self, dtype, copy, errors, using_cow, squeeze)\u001B[0m\n\u001B[1;32m    755\u001B[0m         \u001B[38;5;28;01mraise\u001B[39;00m \u001B[38;5;167;01mValueError\u001B[39;00m(\u001B[38;5;124m\"\u001B[39m\u001B[38;5;124mCan not squeeze with more than one column.\u001B[39m\u001B[38;5;124m\"\u001B[39m)\n\u001B[1;32m    756\u001B[0m     values \u001B[38;5;241m=\u001B[39m values[\u001B[38;5;241m0\u001B[39m, :]  \u001B[38;5;66;03m# type: ignore[call-overload]\u001B[39;00m\n\u001B[0;32m--> 758\u001B[0m new_values \u001B[38;5;241m=\u001B[39m \u001B[43mastype_array_safe\u001B[49m\u001B[43m(\u001B[49m\u001B[43mvalues\u001B[49m\u001B[43m,\u001B[49m\u001B[43m \u001B[49m\u001B[43mdtype\u001B[49m\u001B[43m,\u001B[49m\u001B[43m \u001B[49m\u001B[43mcopy\u001B[49m\u001B[38;5;241;43m=\u001B[39;49m\u001B[43mcopy\u001B[49m\u001B[43m,\u001B[49m\u001B[43m \u001B[49m\u001B[43merrors\u001B[49m\u001B[38;5;241;43m=\u001B[39;49m\u001B[43merrors\u001B[49m\u001B[43m)\u001B[49m\n\u001B[1;32m    760\u001B[0m new_values \u001B[38;5;241m=\u001B[39m maybe_coerce_values(new_values)\n\u001B[1;32m    762\u001B[0m refs \u001B[38;5;241m=\u001B[39m \u001B[38;5;28;01mNone\u001B[39;00m\n",
      "File \u001B[0;32m/Library/Frameworks/Python.framework/Versions/3.13/lib/python3.13/site-packages/pandas/core/dtypes/astype.py:237\u001B[0m, in \u001B[0;36mastype_array_safe\u001B[0;34m(values, dtype, copy, errors)\u001B[0m\n\u001B[1;32m    234\u001B[0m     dtype \u001B[38;5;241m=\u001B[39m dtype\u001B[38;5;241m.\u001B[39mnumpy_dtype\n\u001B[1;32m    236\u001B[0m \u001B[38;5;28;01mtry\u001B[39;00m:\n\u001B[0;32m--> 237\u001B[0m     new_values \u001B[38;5;241m=\u001B[39m \u001B[43mastype_array\u001B[49m\u001B[43m(\u001B[49m\u001B[43mvalues\u001B[49m\u001B[43m,\u001B[49m\u001B[43m \u001B[49m\u001B[43mdtype\u001B[49m\u001B[43m,\u001B[49m\u001B[43m \u001B[49m\u001B[43mcopy\u001B[49m\u001B[38;5;241;43m=\u001B[39;49m\u001B[43mcopy\u001B[49m\u001B[43m)\u001B[49m\n\u001B[1;32m    238\u001B[0m \u001B[38;5;28;01mexcept\u001B[39;00m (\u001B[38;5;167;01mValueError\u001B[39;00m, \u001B[38;5;167;01mTypeError\u001B[39;00m):\n\u001B[1;32m    239\u001B[0m     \u001B[38;5;66;03m# e.g. _astype_nansafe can fail on object-dtype of strings\u001B[39;00m\n\u001B[1;32m    240\u001B[0m     \u001B[38;5;66;03m#  trying to convert to float\u001B[39;00m\n\u001B[1;32m    241\u001B[0m     \u001B[38;5;28;01mif\u001B[39;00m errors \u001B[38;5;241m==\u001B[39m \u001B[38;5;124m\"\u001B[39m\u001B[38;5;124mignore\u001B[39m\u001B[38;5;124m\"\u001B[39m:\n",
      "File \u001B[0;32m/Library/Frameworks/Python.framework/Versions/3.13/lib/python3.13/site-packages/pandas/core/dtypes/astype.py:182\u001B[0m, in \u001B[0;36mastype_array\u001B[0;34m(values, dtype, copy)\u001B[0m\n\u001B[1;32m    179\u001B[0m     values \u001B[38;5;241m=\u001B[39m values\u001B[38;5;241m.\u001B[39mastype(dtype, copy\u001B[38;5;241m=\u001B[39mcopy)\n\u001B[1;32m    181\u001B[0m \u001B[38;5;28;01melse\u001B[39;00m:\n\u001B[0;32m--> 182\u001B[0m     values \u001B[38;5;241m=\u001B[39m \u001B[43m_astype_nansafe\u001B[49m\u001B[43m(\u001B[49m\u001B[43mvalues\u001B[49m\u001B[43m,\u001B[49m\u001B[43m \u001B[49m\u001B[43mdtype\u001B[49m\u001B[43m,\u001B[49m\u001B[43m \u001B[49m\u001B[43mcopy\u001B[49m\u001B[38;5;241;43m=\u001B[39;49m\u001B[43mcopy\u001B[49m\u001B[43m)\u001B[49m\n\u001B[1;32m    184\u001B[0m \u001B[38;5;66;03m# in pandas we don't store numpy str dtypes, so convert to object\u001B[39;00m\n\u001B[1;32m    185\u001B[0m \u001B[38;5;28;01mif\u001B[39;00m \u001B[38;5;28misinstance\u001B[39m(dtype, np\u001B[38;5;241m.\u001B[39mdtype) \u001B[38;5;129;01mand\u001B[39;00m \u001B[38;5;28missubclass\u001B[39m(values\u001B[38;5;241m.\u001B[39mdtype\u001B[38;5;241m.\u001B[39mtype, \u001B[38;5;28mstr\u001B[39m):\n",
      "File \u001B[0;32m/Library/Frameworks/Python.framework/Versions/3.13/lib/python3.13/site-packages/pandas/core/dtypes/astype.py:101\u001B[0m, in \u001B[0;36m_astype_nansafe\u001B[0;34m(arr, dtype, copy, skipna)\u001B[0m\n\u001B[1;32m     96\u001B[0m     \u001B[38;5;28;01mreturn\u001B[39;00m lib\u001B[38;5;241m.\u001B[39mensure_string_array(\n\u001B[1;32m     97\u001B[0m         arr, skipna\u001B[38;5;241m=\u001B[39mskipna, convert_na_value\u001B[38;5;241m=\u001B[39m\u001B[38;5;28;01mFalse\u001B[39;00m\n\u001B[1;32m     98\u001B[0m     )\u001B[38;5;241m.\u001B[39mreshape(shape)\n\u001B[1;32m    100\u001B[0m \u001B[38;5;28;01melif\u001B[39;00m np\u001B[38;5;241m.\u001B[39missubdtype(arr\u001B[38;5;241m.\u001B[39mdtype, np\u001B[38;5;241m.\u001B[39mfloating) \u001B[38;5;129;01mand\u001B[39;00m dtype\u001B[38;5;241m.\u001B[39mkind \u001B[38;5;129;01min\u001B[39;00m \u001B[38;5;124m\"\u001B[39m\u001B[38;5;124miu\u001B[39m\u001B[38;5;124m\"\u001B[39m:\n\u001B[0;32m--> 101\u001B[0m     \u001B[38;5;28;01mreturn\u001B[39;00m \u001B[43m_astype_float_to_int_nansafe\u001B[49m\u001B[43m(\u001B[49m\u001B[43marr\u001B[49m\u001B[43m,\u001B[49m\u001B[43m \u001B[49m\u001B[43mdtype\u001B[49m\u001B[43m,\u001B[49m\u001B[43m \u001B[49m\u001B[43mcopy\u001B[49m\u001B[43m)\u001B[49m\n\u001B[1;32m    103\u001B[0m \u001B[38;5;28;01melif\u001B[39;00m arr\u001B[38;5;241m.\u001B[39mdtype \u001B[38;5;241m==\u001B[39m \u001B[38;5;28mobject\u001B[39m:\n\u001B[1;32m    104\u001B[0m     \u001B[38;5;66;03m# if we have a datetime/timedelta array of objects\u001B[39;00m\n\u001B[1;32m    105\u001B[0m     \u001B[38;5;66;03m# then coerce to datetime64[ns] and use DatetimeArray.astype\u001B[39;00m\n\u001B[1;32m    107\u001B[0m     \u001B[38;5;28;01mif\u001B[39;00m lib\u001B[38;5;241m.\u001B[39mis_np_dtype(dtype, \u001B[38;5;124m\"\u001B[39m\u001B[38;5;124mM\u001B[39m\u001B[38;5;124m\"\u001B[39m):\n",
      "File \u001B[0;32m/Library/Frameworks/Python.framework/Versions/3.13/lib/python3.13/site-packages/pandas/core/dtypes/astype.py:145\u001B[0m, in \u001B[0;36m_astype_float_to_int_nansafe\u001B[0;34m(values, dtype, copy)\u001B[0m\n\u001B[1;32m    141\u001B[0m \u001B[38;5;250m\u001B[39m\u001B[38;5;124;03m\"\"\"\u001B[39;00m\n\u001B[1;32m    142\u001B[0m \u001B[38;5;124;03mastype with a check preventing converting NaN to an meaningless integer value.\u001B[39;00m\n\u001B[1;32m    143\u001B[0m \u001B[38;5;124;03m\"\"\"\u001B[39;00m\n\u001B[1;32m    144\u001B[0m \u001B[38;5;28;01mif\u001B[39;00m \u001B[38;5;129;01mnot\u001B[39;00m np\u001B[38;5;241m.\u001B[39misfinite(values)\u001B[38;5;241m.\u001B[39mall():\n\u001B[0;32m--> 145\u001B[0m     \u001B[38;5;28;01mraise\u001B[39;00m IntCastingNaNError(\n\u001B[1;32m    146\u001B[0m         \u001B[38;5;124m\"\u001B[39m\u001B[38;5;124mCannot convert non-finite values (NA or inf) to integer\u001B[39m\u001B[38;5;124m\"\u001B[39m\n\u001B[1;32m    147\u001B[0m     )\n\u001B[1;32m    148\u001B[0m \u001B[38;5;28;01mif\u001B[39;00m dtype\u001B[38;5;241m.\u001B[39mkind \u001B[38;5;241m==\u001B[39m \u001B[38;5;124m\"\u001B[39m\u001B[38;5;124mu\u001B[39m\u001B[38;5;124m\"\u001B[39m:\n\u001B[1;32m    149\u001B[0m     \u001B[38;5;66;03m# GH#45151\u001B[39;00m\n\u001B[1;32m    150\u001B[0m     \u001B[38;5;28;01mif\u001B[39;00m \u001B[38;5;129;01mnot\u001B[39;00m (values \u001B[38;5;241m>\u001B[39m\u001B[38;5;241m=\u001B[39m \u001B[38;5;241m0\u001B[39m)\u001B[38;5;241m.\u001B[39mall():\n",
      "\u001B[0;31mIntCastingNaNError\u001B[0m: Cannot convert non-finite values (NA or inf) to integer"
     ]
    }
   ],
   "execution_count": 31
  },
  {
   "cell_type": "code",
   "metadata": {
    "ExecuteTime": {
     "end_time": "2025-01-30T00:26:40.368422Z",
     "start_time": "2025-01-30T00:26:40.350187Z"
    }
   },
   "source": [
    "#configure and train models on our data\n",
    "from robyn.modeling.entities.enums import Models, NevergradAlgorithm\n",
    "from robyn.modeling.entities.modelrun_trials_config import TrialsConfig\n",
    "\n",
    "trials_config = TrialsConfig(iterations=54, trials=5)\n",
    "\n",
    "robyn.train_models(\n",
    "    trials_config=trials_config,\n",
    "    ts_validation=True,\n",
    "    add_penalty_factor=False,\n",
    "    rssd_zero_penalty=True,\n",
    "    cores=8,\n",
    "    nevergrad_algo=NevergradAlgorithm.TWO_POINTS_DE,\n",
    "    model_name=Models.RIDGE,\n",
    ")"
   ],
   "outputs": [
    {
     "ename": "ValueError",
     "evalue": "Must call initialize() first",
     "output_type": "error",
     "traceback": [
      "\u001B[0;31m---------------------------------------------------------------------------\u001B[0m",
      "\u001B[0;31mValueError\u001B[0m                                Traceback (most recent call last)",
      "Cell \u001B[0;32mIn[32], line 7\u001B[0m\n\u001B[1;32m      3\u001B[0m \u001B[38;5;28;01mfrom\u001B[39;00m \u001B[38;5;21;01mrobyn\u001B[39;00m\u001B[38;5;21;01m.\u001B[39;00m\u001B[38;5;21;01mmodeling\u001B[39;00m\u001B[38;5;21;01m.\u001B[39;00m\u001B[38;5;21;01mentities\u001B[39;00m\u001B[38;5;21;01m.\u001B[39;00m\u001B[38;5;21;01mmodelrun_trials_config\u001B[39;00m \u001B[38;5;28;01mimport\u001B[39;00m TrialsConfig\n\u001B[1;32m      5\u001B[0m trials_config \u001B[38;5;241m=\u001B[39m TrialsConfig(iterations\u001B[38;5;241m=\u001B[39m\u001B[38;5;241m54\u001B[39m, trials\u001B[38;5;241m=\u001B[39m\u001B[38;5;241m5\u001B[39m)\n\u001B[0;32m----> 7\u001B[0m \u001B[43mrobyn\u001B[49m\u001B[38;5;241;43m.\u001B[39;49m\u001B[43mtrain_models\u001B[49m\u001B[43m(\u001B[49m\n\u001B[1;32m      8\u001B[0m \u001B[43m    \u001B[49m\u001B[43mtrials_config\u001B[49m\u001B[38;5;241;43m=\u001B[39;49m\u001B[43mtrials_config\u001B[49m\u001B[43m,\u001B[49m\n\u001B[1;32m      9\u001B[0m \u001B[43m    \u001B[49m\u001B[43mts_validation\u001B[49m\u001B[38;5;241;43m=\u001B[39;49m\u001B[38;5;28;43;01mTrue\u001B[39;49;00m\u001B[43m,\u001B[49m\n\u001B[1;32m     10\u001B[0m \u001B[43m    \u001B[49m\u001B[43madd_penalty_factor\u001B[49m\u001B[38;5;241;43m=\u001B[39;49m\u001B[38;5;28;43;01mFalse\u001B[39;49;00m\u001B[43m,\u001B[49m\n\u001B[1;32m     11\u001B[0m \u001B[43m    \u001B[49m\u001B[43mrssd_zero_penalty\u001B[49m\u001B[38;5;241;43m=\u001B[39;49m\u001B[38;5;28;43;01mTrue\u001B[39;49;00m\u001B[43m,\u001B[49m\n\u001B[1;32m     12\u001B[0m \u001B[43m    \u001B[49m\u001B[43mcores\u001B[49m\u001B[38;5;241;43m=\u001B[39;49m\u001B[38;5;241;43m8\u001B[39;49m\u001B[43m,\u001B[49m\n\u001B[1;32m     13\u001B[0m \u001B[43m    \u001B[49m\u001B[43mnevergrad_algo\u001B[49m\u001B[38;5;241;43m=\u001B[39;49m\u001B[43mNevergradAlgorithm\u001B[49m\u001B[38;5;241;43m.\u001B[39;49m\u001B[43mTWO_POINTS_DE\u001B[49m\u001B[43m,\u001B[49m\n\u001B[1;32m     14\u001B[0m \u001B[43m    \u001B[49m\u001B[43mmodel_name\u001B[49m\u001B[38;5;241;43m=\u001B[39;49m\u001B[43mModels\u001B[49m\u001B[38;5;241;43m.\u001B[39;49m\u001B[43mRIDGE\u001B[49m\u001B[43m,\u001B[49m\n\u001B[1;32m     15\u001B[0m \u001B[43m)\u001B[49m\n",
      "File \u001B[0;32m/Library/Frameworks/Python.framework/Versions/3.13/lib/python3.13/site-packages/robyn/robyn.py:192\u001B[0m, in \u001B[0;36mRobyn.train_models\u001B[0;34m(self, trials_config, ts_validation, add_penalty_factor, rssd_zero_penalty, nevergrad_algo, model_name, cores, display_plots, export_plots)\u001B[0m\n\u001B[1;32m    160\u001B[0m \u001B[38;5;28;01mdef\u001B[39;00m \u001B[38;5;21mtrain_models\u001B[39m(\n\u001B[1;32m    161\u001B[0m     \u001B[38;5;28mself\u001B[39m,\n\u001B[1;32m    162\u001B[0m     trials_config: Optional[TrialsConfig] \u001B[38;5;241m=\u001B[39m \u001B[38;5;28;01mNone\u001B[39;00m,\n\u001B[0;32m   (...)\u001B[0m\n\u001B[1;32m    170\u001B[0m     export_plots: \u001B[38;5;28mbool\u001B[39m \u001B[38;5;241m=\u001B[39m \u001B[38;5;28;01mFalse\u001B[39;00m,\n\u001B[1;32m    171\u001B[0m ) \u001B[38;5;241m-\u001B[39m\u001B[38;5;241m>\u001B[39m ModelOutputs:\n\u001B[1;32m    172\u001B[0m \u001B[38;5;250m    \u001B[39m\u001B[38;5;124;03m\"\"\"\u001B[39;00m\n\u001B[1;32m    173\u001B[0m \u001B[38;5;124;03m    Trains the specified models using the provided configuration and parameters.\u001B[39;00m\n\u001B[1;32m    174\u001B[0m \n\u001B[0;32m   (...)\u001B[0m\n\u001B[1;32m    189\u001B[0m \u001B[38;5;124;03m        Exception: If training the models fails.\u001B[39;00m\n\u001B[1;32m    190\u001B[0m \u001B[38;5;124;03m    \"\"\"\u001B[39;00m\n\u001B[0;32m--> 192\u001B[0m     \u001B[38;5;28;43mself\u001B[39;49m\u001B[38;5;241;43m.\u001B[39;49m\u001B[43m_validate_initialization\u001B[49m\u001B[43m(\u001B[49m\u001B[43m)\u001B[49m\n\u001B[1;32m    194\u001B[0m     \u001B[38;5;28;01mtry\u001B[39;00m:\n\u001B[1;32m    195\u001B[0m         logger\u001B[38;5;241m.\u001B[39minfo(\u001B[38;5;124m\"\u001B[39m\u001B[38;5;124mTraining models\u001B[39m\u001B[38;5;124m\"\u001B[39m)\n",
      "File \u001B[0;32m/Library/Frameworks/Python.framework/Versions/3.13/lib/python3.13/site-packages/robyn/robyn.py:468\u001B[0m, in \u001B[0;36mRobyn._validate_initialization\u001B[0;34m(self)\u001B[0m\n\u001B[1;32m    459\u001B[0m \u001B[38;5;250m\u001B[39m\u001B[38;5;124;03m\"\"\"Validate that required components are initialized.\"\"\"\u001B[39;00m\n\u001B[1;32m    460\u001B[0m \u001B[38;5;28;01mif\u001B[39;00m \u001B[38;5;129;01mnot\u001B[39;00m \u001B[38;5;28mall\u001B[39m(\n\u001B[1;32m    461\u001B[0m     [\n\u001B[1;32m    462\u001B[0m         \u001B[38;5;28mself\u001B[39m\u001B[38;5;241m.\u001B[39mmmm_data,\n\u001B[0;32m   (...)\u001B[0m\n\u001B[1;32m    466\u001B[0m     ]\n\u001B[1;32m    467\u001B[0m ):\n\u001B[0;32m--> 468\u001B[0m     \u001B[38;5;28;01mraise\u001B[39;00m \u001B[38;5;167;01mValueError\u001B[39;00m(\u001B[38;5;124m\"\u001B[39m\u001B[38;5;124mMust call initialize() first\u001B[39m\u001B[38;5;124m\"\u001B[39m)\n",
      "\u001B[0;31mValueError\u001B[0m: Must call initialize() first"
     ]
    }
   ],
   "execution_count": 32
  },
  {
   "cell_type": "code",
   "metadata": {},
   "source": [
    "#build models and display results for evaluation\n",
    "from robyn.modeling.clustering.clustering_config import ClusterBy, ClusteringConfig\n",
    "\n",
    "configs = ClusteringConfig(\n",
    "    dep_var_type=DependentVarType(mmm_data.mmmdata_spec.dep_var_type),\n",
    "    cluster_by=ClusterBy.HYPERPARAMETERS,\n",
    "    max_clusters=10,\n",
    "    min_clusters=3,\n",
    "    weights=[1.0, 1.0, 1.0],\n",
    ")\n"
   ],
   "outputs": [],
   "execution_count": null
  },
  {
   "metadata": {},
   "cell_type": "code",
   "source": [
    "#robyn.evaluate_models(cluster_config=configs)\n",
    "robyn.evaluate_models(cluster_config=configs)"
   ],
   "outputs": [],
   "execution_count": null
  },
  {
   "metadata": {},
   "cell_type": "code",
   "source": "robyn.generate_one_pager()",
   "outputs": [],
   "execution_count": null
  },
  {
   "metadata": {},
   "cell_type": "code",
   "source": [
    "from robyn.allocator.entities.allocation_params import AllocatorParams\n",
    "from robyn.allocator.constants import (\n",
    "    SCENARIO_MAX_RESPONSE,\n",
    "    CONSTRAINT_MODE_EQ,\n",
    ")\n",
    "\n",
    "allocator_params = AllocatorParams(\n",
    "    scenario=SCENARIO_MAX_RESPONSE,\n",
    "    total_budget=None,  # Uses total spend in date_range when None\n",
    "    date_range=\"all\",\n",
    "    channel_constr_low=[0.7],  # Minimum spend multiplier\n",
    "    channel_constr_up=[1.2],  # Maximum spend multiplier\n",
    "    channel_constr_multiplier=3.0,\n",
    "    optim_algo=\"SLSQP_AUGLAG\",\n",
    "    maxeval=100000,\n",
    "    constr_mode=CONSTRAINT_MODE_EQ,\n",
    "    plots=True,\n",
    ")\n",
    "\n",
    "allocation_result = robyn.optimize_budget(\n",
    "    allocator_params=allocator_params,\n",
    "    select_model=None,\n",
    ")"
   ],
   "outputs": [],
   "execution_count": null
  },
  {
   "metadata": {},
   "cell_type": "code",
   "source": "",
   "outputs": [],
   "execution_count": null
  },
  {
   "metadata": {},
   "cell_type": "code",
   "source": "",
   "outputs": [],
   "execution_count": null
  }
 ],
 "metadata": {
  "kernelspec": {
   "display_name": "Python 3",
   "language": "python",
   "name": "python3"
  },
  "language_info": {
   "codemirror_mode": {
    "name": "ipython",
    "version": 3
   },
   "file_extension": ".py",
   "mimetype": "text/x-python",
   "name": "python",
   "nbconvert_exporter": "python",
   "pygments_lexer": "ipython3",
   "version": "3.11.9"
  }
 },
 "nbformat": 4,
 "nbformat_minor": 4
}
